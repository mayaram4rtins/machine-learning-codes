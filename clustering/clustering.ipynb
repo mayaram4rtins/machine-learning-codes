{
 "cells": [
  {
   "cell_type": "code",
   "execution_count": 1,
   "id": "11595848",
   "metadata": {
    "ExecuteTime": {
     "end_time": "2023-09-26T13:46:00.970515Z",
     "start_time": "2023-09-26T13:46:00.546490Z"
    }
   },
   "outputs": [
    {
     "data": {
      "text/html": [
       "<div>\n",
       "<style scoped>\n",
       "    .dataframe tbody tr th:only-of-type {\n",
       "        vertical-align: middle;\n",
       "    }\n",
       "\n",
       "    .dataframe tbody tr th {\n",
       "        vertical-align: top;\n",
       "    }\n",
       "\n",
       "    .dataframe thead th {\n",
       "        text-align: right;\n",
       "    }\n",
       "</style>\n",
       "<table border=\"1\" class=\"dataframe\">\n",
       "  <thead>\n",
       "    <tr style=\"text-align: right;\">\n",
       "      <th></th>\n",
       "      <th>BALANCE</th>\n",
       "      <th>BALANCE_FREQUENCY</th>\n",
       "      <th>PURCHASES</th>\n",
       "      <th>ONEOFF_PURCHASES</th>\n",
       "      <th>INSTALLMENTS_PURCHASES</th>\n",
       "      <th>CASH_ADVANCE</th>\n",
       "      <th>PURCHASES_FREQUENCY</th>\n",
       "      <th>ONEOFF_PURCHASES_FREQUENCY</th>\n",
       "      <th>PURCHASES_INSTALLMENTS_FREQUENCY</th>\n",
       "      <th>CASH_ADVANCE_FREQUENCY</th>\n",
       "      <th>CASH_ADVANCE_TRX</th>\n",
       "      <th>PURCHASES_TRX</th>\n",
       "      <th>CREDIT_LIMIT</th>\n",
       "      <th>PAYMENTS</th>\n",
       "      <th>MINIMUM_PAYMENTS</th>\n",
       "      <th>PRC_FULL_PAYMENT</th>\n",
       "    </tr>\n",
       "  </thead>\n",
       "  <tbody>\n",
       "    <tr>\n",
       "      <th>0</th>\n",
       "      <td>40.900749</td>\n",
       "      <td>0.818182</td>\n",
       "      <td>95.40</td>\n",
       "      <td>0.00</td>\n",
       "      <td>95.4</td>\n",
       "      <td>0.000000</td>\n",
       "      <td>0.166667</td>\n",
       "      <td>0.000000</td>\n",
       "      <td>0.083333</td>\n",
       "      <td>0.000000</td>\n",
       "      <td>0</td>\n",
       "      <td>2</td>\n",
       "      <td>1000.0</td>\n",
       "      <td>201.802084</td>\n",
       "      <td>139.509787</td>\n",
       "      <td>0.000000</td>\n",
       "    </tr>\n",
       "    <tr>\n",
       "      <th>1</th>\n",
       "      <td>3202.467416</td>\n",
       "      <td>0.909091</td>\n",
       "      <td>0.00</td>\n",
       "      <td>0.00</td>\n",
       "      <td>0.0</td>\n",
       "      <td>6442.945483</td>\n",
       "      <td>0.000000</td>\n",
       "      <td>0.000000</td>\n",
       "      <td>0.000000</td>\n",
       "      <td>0.250000</td>\n",
       "      <td>4</td>\n",
       "      <td>0</td>\n",
       "      <td>7000.0</td>\n",
       "      <td>4103.032597</td>\n",
       "      <td>1072.340217</td>\n",
       "      <td>0.222222</td>\n",
       "    </tr>\n",
       "    <tr>\n",
       "      <th>2</th>\n",
       "      <td>2495.148862</td>\n",
       "      <td>1.000000</td>\n",
       "      <td>773.17</td>\n",
       "      <td>773.17</td>\n",
       "      <td>0.0</td>\n",
       "      <td>0.000000</td>\n",
       "      <td>1.000000</td>\n",
       "      <td>1.000000</td>\n",
       "      <td>0.000000</td>\n",
       "      <td>0.000000</td>\n",
       "      <td>0</td>\n",
       "      <td>12</td>\n",
       "      <td>7500.0</td>\n",
       "      <td>622.066742</td>\n",
       "      <td>627.284787</td>\n",
       "      <td>0.000000</td>\n",
       "    </tr>\n",
       "    <tr>\n",
       "      <th>3</th>\n",
       "      <td>1666.670542</td>\n",
       "      <td>0.636364</td>\n",
       "      <td>1499.00</td>\n",
       "      <td>1499.00</td>\n",
       "      <td>0.0</td>\n",
       "      <td>205.788017</td>\n",
       "      <td>0.083333</td>\n",
       "      <td>0.083333</td>\n",
       "      <td>0.000000</td>\n",
       "      <td>0.083333</td>\n",
       "      <td>1</td>\n",
       "      <td>1</td>\n",
       "      <td>7500.0</td>\n",
       "      <td>0.000000</td>\n",
       "      <td>NaN</td>\n",
       "      <td>0.000000</td>\n",
       "    </tr>\n",
       "    <tr>\n",
       "      <th>4</th>\n",
       "      <td>817.714335</td>\n",
       "      <td>1.000000</td>\n",
       "      <td>16.00</td>\n",
       "      <td>16.00</td>\n",
       "      <td>0.0</td>\n",
       "      <td>0.000000</td>\n",
       "      <td>0.083333</td>\n",
       "      <td>0.083333</td>\n",
       "      <td>0.000000</td>\n",
       "      <td>0.000000</td>\n",
       "      <td>0</td>\n",
       "      <td>1</td>\n",
       "      <td>1200.0</td>\n",
       "      <td>678.334763</td>\n",
       "      <td>244.791237</td>\n",
       "      <td>0.000000</td>\n",
       "    </tr>\n",
       "  </tbody>\n",
       "</table>\n",
       "</div>"
      ],
      "text/plain": [
       "       BALANCE  BALANCE_FREQUENCY  PURCHASES  ONEOFF_PURCHASES  \\\n",
       "0    40.900749           0.818182      95.40              0.00   \n",
       "1  3202.467416           0.909091       0.00              0.00   \n",
       "2  2495.148862           1.000000     773.17            773.17   \n",
       "3  1666.670542           0.636364    1499.00           1499.00   \n",
       "4   817.714335           1.000000      16.00             16.00   \n",
       "\n",
       "   INSTALLMENTS_PURCHASES  CASH_ADVANCE  PURCHASES_FREQUENCY  \\\n",
       "0                    95.4      0.000000             0.166667   \n",
       "1                     0.0   6442.945483             0.000000   \n",
       "2                     0.0      0.000000             1.000000   \n",
       "3                     0.0    205.788017             0.083333   \n",
       "4                     0.0      0.000000             0.083333   \n",
       "\n",
       "   ONEOFF_PURCHASES_FREQUENCY  PURCHASES_INSTALLMENTS_FREQUENCY  \\\n",
       "0                    0.000000                          0.083333   \n",
       "1                    0.000000                          0.000000   \n",
       "2                    1.000000                          0.000000   \n",
       "3                    0.083333                          0.000000   \n",
       "4                    0.083333                          0.000000   \n",
       "\n",
       "   CASH_ADVANCE_FREQUENCY  CASH_ADVANCE_TRX  PURCHASES_TRX  CREDIT_LIMIT  \\\n",
       "0                0.000000                 0              2        1000.0   \n",
       "1                0.250000                 4              0        7000.0   \n",
       "2                0.000000                 0             12        7500.0   \n",
       "3                0.083333                 1              1        7500.0   \n",
       "4                0.000000                 0              1        1200.0   \n",
       "\n",
       "      PAYMENTS  MINIMUM_PAYMENTS  PRC_FULL_PAYMENT  \n",
       "0   201.802084        139.509787          0.000000  \n",
       "1  4103.032597       1072.340217          0.222222  \n",
       "2   622.066742        627.284787          0.000000  \n",
       "3     0.000000               NaN          0.000000  \n",
       "4   678.334763        244.791237          0.000000  "
      ]
     },
     "execution_count": 1,
     "metadata": {},
     "output_type": "execute_result"
    }
   ],
   "source": [
    "import pandas as pd\n",
    "\n",
    "dataframe = pd.read_csv(\"CC GENERAL.csv\")\n",
    "dataframe.drop(columns=['CUST_ID', 'TENURE'], inplace=True)\n",
    "dataframe.head()"
   ]
  },
  {
   "cell_type": "code",
   "execution_count": 2,
   "id": "fbcda1e6",
   "metadata": {
    "ExecuteTime": {
     "end_time": "2023-09-26T13:46:00.986472Z",
     "start_time": "2023-09-26T13:46:00.971514Z"
    }
   },
   "outputs": [
    {
     "data": {
      "text/plain": [
       "BALANCE                               0\n",
       "BALANCE_FREQUENCY                     0\n",
       "PURCHASES                             0\n",
       "ONEOFF_PURCHASES                      0\n",
       "INSTALLMENTS_PURCHASES                0\n",
       "CASH_ADVANCE                          0\n",
       "PURCHASES_FREQUENCY                   0\n",
       "ONEOFF_PURCHASES_FREQUENCY            0\n",
       "PURCHASES_INSTALLMENTS_FREQUENCY      0\n",
       "CASH_ADVANCE_FREQUENCY                0\n",
       "CASH_ADVANCE_TRX                      0\n",
       "PURCHASES_TRX                         0\n",
       "CREDIT_LIMIT                          1\n",
       "PAYMENTS                              0\n",
       "MINIMUM_PAYMENTS                    313\n",
       "PRC_FULL_PAYMENT                      0\n",
       "dtype: int64"
      ]
     },
     "execution_count": 2,
     "metadata": {},
     "output_type": "execute_result"
    }
   ],
   "source": [
    "missing = dataframe.isna().sum()\n",
    "missing"
   ]
  },
  {
   "cell_type": "code",
   "execution_count": 3,
   "id": "e8f0fa03",
   "metadata": {
    "ExecuteTime": {
     "end_time": "2023-09-26T13:46:01.047832Z",
     "start_time": "2023-09-26T13:46:00.987470Z"
    }
   },
   "outputs": [
    {
     "data": {
      "text/plain": [
       "BALANCE                             0\n",
       "BALANCE_FREQUENCY                   0\n",
       "PURCHASES                           0\n",
       "ONEOFF_PURCHASES                    0\n",
       "INSTALLMENTS_PURCHASES              0\n",
       "CASH_ADVANCE                        0\n",
       "PURCHASES_FREQUENCY                 0\n",
       "ONEOFF_PURCHASES_FREQUENCY          0\n",
       "PURCHASES_INSTALLMENTS_FREQUENCY    0\n",
       "CASH_ADVANCE_FREQUENCY              0\n",
       "CASH_ADVANCE_TRX                    0\n",
       "PURCHASES_TRX                       0\n",
       "CREDIT_LIMIT                        0\n",
       "PAYMENTS                            0\n",
       "MINIMUM_PAYMENTS                    0\n",
       "PRC_FULL_PAYMENT                    0\n",
       "dtype: int64"
      ]
     },
     "execution_count": 3,
     "metadata": {},
     "output_type": "execute_result"
    }
   ],
   "source": [
    "dataframe.fillna(dataframe.median(), inplace=True)\n",
    "missing = dataframe.isna().sum()\n",
    "missing"
   ]
  },
  {
   "cell_type": "code",
   "execution_count": 4,
   "id": "e3373fb7",
   "metadata": {
    "ExecuteTime": {
     "end_time": "2023-09-26T13:46:01.589422Z",
     "start_time": "2023-09-26T13:46:01.051821Z"
    }
   },
   "outputs": [
    {
     "data": {
      "text/plain": [
       "array([[3.93555441e-02, 7.87271593e-04, 9.17958473e-02, ...,\n",
       "        1.94178127e-01, 1.34239194e-01, 0.00000000e+00],\n",
       "       [2.93875903e-01, 8.34231560e-05, 0.00000000e+00, ...,\n",
       "        3.76516684e-01, 9.84037959e-02, 2.03923046e-05],\n",
       "       [3.10798149e-01, 1.24560965e-04, 9.63068011e-02, ...,\n",
       "        7.74852335e-02, 7.81351982e-02, 0.00000000e+00],\n",
       "       ...,\n",
       "       [2.27733092e-02, 8.11060955e-04, 1.40540698e-01, ...,\n",
       "        7.90986945e-02, 8.02156174e-02, 2.43318384e-04],\n",
       "       [2.65257948e-02, 1.64255731e-03, 0.00000000e+00, ...,\n",
       "        1.03579625e-01, 1.09898221e-01, 4.92767391e-04],\n",
       "       [1.86406219e-01, 3.33426837e-04, 5.46778061e-01, ...,\n",
       "        3.15915455e-02, 4.41568390e-02, 0.00000000e+00]])"
      ]
     },
     "execution_count": 4,
     "metadata": {},
     "output_type": "execute_result"
    }
   ],
   "source": [
    "from sklearn.preprocessing import Normalizer\n",
    "values = Normalizer().fit_transform(dataframe.values)\n",
    "values"
   ]
  },
  {
   "cell_type": "code",
   "execution_count": 5,
   "id": "4c3ba048",
   "metadata": {
    "ExecuteTime": {
     "end_time": "2023-09-26T13:46:02.052446Z",
     "start_time": "2023-09-26T13:46:01.590837Z"
    }
   },
   "outputs": [],
   "source": [
    "from sklearn.cluster import KMeans\n",
    "kmeans = KMeans(n_clusters=5, n_init=10, max_iter=300)\n",
    "y_pred = kmeans.fit_predict(values)"
   ]
  },
  {
   "cell_type": "code",
   "execution_count": 6,
   "id": "356cf155",
   "metadata": {
    "ExecuteTime": {
     "end_time": "2023-09-26T13:46:03.300182Z",
     "start_time": "2023-09-26T13:46:02.053444Z"
    }
   },
   "outputs": [
    {
     "data": {
      "text/plain": [
       "0.3486361382475878"
      ]
     },
     "execution_count": 6,
     "metadata": {},
     "output_type": "execute_result"
    }
   ],
   "source": [
    "from sklearn import metrics\n",
    "labels = kmeans.labels_\n",
    "silhouette = metrics.silhouette_score(values, labels, metric='euclidean')\n",
    "silhouette"
   ]
  },
  {
   "cell_type": "code",
   "execution_count": 7,
   "id": "404834f9",
   "metadata": {
    "ExecuteTime": {
     "end_time": "2023-09-26T13:46:03.316525Z",
     "start_time": "2023-09-26T13:46:03.302176Z"
    }
   },
   "outputs": [
    {
     "data": {
      "text/plain": [
       "1.1526565665992343"
      ]
     },
     "execution_count": 7,
     "metadata": {},
     "output_type": "execute_result"
    }
   ],
   "source": [
    "dbs = metrics.davies_bouldin_score(values, labels)\n",
    "dbs"
   ]
  },
  {
   "cell_type": "code",
   "execution_count": 8,
   "id": "49bb77db",
   "metadata": {
    "ExecuteTime": {
     "end_time": "2023-09-26T13:46:03.362361Z",
     "start_time": "2023-09-26T13:46:03.318480Z"
    }
   },
   "outputs": [
    {
     "data": {
      "text/plain": [
       "3422.8431338804785"
      ]
     },
     "execution_count": 8,
     "metadata": {},
     "output_type": "execute_result"
    }
   ],
   "source": [
    "calinski = metrics.calinski_harabasz_score(values, labels)\n",
    "calinski"
   ]
  },
  {
   "cell_type": "code",
   "execution_count": 9,
   "id": "e30ff207",
   "metadata": {
    "ExecuteTime": {
     "end_time": "2023-09-26T13:46:03.378318Z",
     "start_time": "2023-09-26T13:46:03.364356Z"
    }
   },
   "outputs": [],
   "source": [
    "def clustering_algorithm(n_clusters, dataset):\n",
    "    kmeans = KMeans(n_clusters=n_clusters, n_init=10, max_iter=300)\n",
    "    labels = kmeans.fit_predict(dataset)\n",
    "    s = metrics.silhouette_score(dataset, labels, metric='euclidean')\n",
    "    dbs = metrics.davies_bouldin_score(dataset, labels)\n",
    "    calinski = metrics.calinski_harabasz_score(dataset, labels)\n",
    "    \n",
    "    return s, dbs, calinski"
   ]
  },
  {
   "cell_type": "code",
   "execution_count": 10,
   "id": "e2abe613",
   "metadata": {
    "ExecuteTime": {
     "end_time": "2023-09-26T13:46:04.946945Z",
     "start_time": "2023-09-26T13:46:03.379316Z"
    }
   },
   "outputs": [
    {
     "data": {
      "text/plain": [
       "(0.3272203126696238, 1.309607364008843, 3526.440519908274)"
      ]
     },
     "execution_count": 10,
     "metadata": {},
     "output_type": "execute_result"
    }
   ],
   "source": [
    "s1, dbs1, calinski1 = clustering_algorithm(3, values)\n",
    "s1, dbs1, calinski1"
   ]
  },
  {
   "cell_type": "code",
   "execution_count": 11,
   "id": "9d2c6baa",
   "metadata": {
    "ExecuteTime": {
     "end_time": "2023-09-26T13:46:06.592489Z",
     "start_time": "2023-09-26T13:46:04.948940Z"
    }
   },
   "outputs": [
    {
     "data": {
      "text/plain": [
       "(0.34861955528487404, 1.15278483353004, 3422.84312759221)"
      ]
     },
     "execution_count": 11,
     "metadata": {},
     "output_type": "execute_result"
    }
   ],
   "source": [
    "s2, dbs2, calinski2 = clustering_algorithm(5, values)\n",
    "s2, dbs2, calinski2"
   ]
  },
  {
   "cell_type": "code",
   "execution_count": 12,
   "id": "e4e0c3d5",
   "metadata": {
    "ExecuteTime": {
     "end_time": "2023-09-26T13:46:08.810382Z",
     "start_time": "2023-09-26T13:46:06.594485Z"
    }
   },
   "outputs": [
    {
     "data": {
      "text/plain": [
       "(0.2789142267179473, 1.2055369955931479, 2416.291885883839)"
      ]
     },
     "execution_count": 12,
     "metadata": {},
     "output_type": "execute_result"
    }
   ],
   "source": [
    "s3, dbs3, calinski3 = clustering_algorithm(20, values)\n",
    "s3, dbs3, calinski3"
   ]
  },
  {
   "cell_type": "markdown",
   "id": "6c95843e",
   "metadata": {
    "ExecuteTime": {
     "end_time": "2023-09-21T18:30:05.101818Z",
     "start_time": "2023-09-21T18:30:05.085893Z"
    }
   },
   "source": [
    "optou-se por utilizar o coeficiente de silhouette por ser mais popular e fazer mais sentido para o caso.\n",
    "logo, utilizar-se-a 5 clusters"
   ]
  },
  {
   "cell_type": "code",
   "execution_count": 13,
   "id": "ab864710",
   "metadata": {
    "ExecuteTime": {
     "end_time": "2023-09-26T13:46:10.971811Z",
     "start_time": "2023-09-26T13:46:08.813374Z"
    }
   },
   "outputs": [
    {
     "name": "stdout",
     "output_type": "stream",
     "text": [
      "0.04017084478875743 3.4878705460043187 305.565187302302\n",
      "0.34861955528487404 1.15278483353004 3422.84312759221\n"
     ]
    }
   ],
   "source": [
    "import numpy as np\n",
    "random_data = np.random.rand(8950,16)\n",
    "s4, dbs4, calinski4 = clustering_algorithm(5, random_data)\n",
    "print(s4, dbs4, calinski4)\n",
    "print(s2, dbs2, calinski2)"
   ]
  },
  {
   "cell_type": "code",
   "execution_count": 14,
   "id": "4c4bcd42",
   "metadata": {
    "ExecuteTime": {
     "end_time": "2023-09-26T13:46:12.320205Z",
     "start_time": "2023-09-26T13:46:10.973808Z"
    }
   },
   "outputs": [
    {
     "name": "stdout",
     "output_type": "stream",
     "text": [
      "0.3688875009118463 1.0560676486660832 1204.0960326087898\n",
      "0.3540748990045889 1.1379023215775728 1194.945694538481\n",
      "0.36704188760608253 1.098493261377676 1167.5309516803998\n"
     ]
    }
   ],
   "source": [
    "set1, set2, set3 = np.array_split(values, 3)\n",
    "s5, dbs5, calinski5 = clustering_algorithm(5, set1)\n",
    "s6, dbs6, calinski6 = clustering_algorithm(5, set2)\n",
    "s7, dbs7, calinski7 = clustering_algorithm(5, set3)\n",
    "print(s5, dbs5, calinski5)\n",
    "print(s6, dbs6, calinski6)\n",
    "print(s7, dbs7, calinski7)"
   ]
  },
  {
   "cell_type": "code",
   "execution_count": 15,
   "id": "1303b793",
   "metadata": {
    "ExecuteTime": {
     "end_time": "2023-09-26T13:46:13.227504Z",
     "start_time": "2023-09-26T13:46:12.322200Z"
    }
   },
   "outputs": [
    {
     "data": {
      "text/plain": [
       "<function matplotlib.pyplot.show(close=None, block=None)>"
      ]
     },
     "execution_count": 15,
     "metadata": {},
     "output_type": "execute_result"
    },
    {
     "data": {
      "image/png": "[encoded data removed]",
      "text/plain": [
       "<Figure size 640x480 with 1 Axes>"
      ]
     },
     "metadata": {},
     "output_type": "display_data"
    }
   ],
   "source": [
    "import matplotlib.pyplot as plt\n",
    "\n",
    "plt.scatter(dataframe[\"PURCHASES\"], dataframe['PAYMENTS'], c=labels, s=5, cmap='rainbow')\n",
    "plt.xlabel(\"valor total pago\")\n",
    "plt.ylabel(\"valor total gasto\")\n",
    "plt.show"
   ]
  },
  {
   "cell_type": "code",
   "execution_count": 19,
   "id": "c32bda06",
   "metadata": {
    "ExecuteTime": {
     "end_time": "2023-09-26T13:46:48.216733Z",
     "start_time": "2023-09-26T13:46:48.113997Z"
    }
   },
   "outputs": [],
   "source": [
    "import seaborn as sns\n",
    "dataframe[\"cluster\"] = labels\n",
    "#sns.pairplot(dataframe[0:], hue=\"cluster\")"
   ]
  },
  {
   "cell_type": "code",
   "execution_count": 21,
   "id": "b135f600",
   "metadata": {
    "ExecuteTime": {
     "end_time": "2023-09-26T13:46:51.399676Z",
     "start_time": "2023-09-26T13:46:51.254563Z"
    }
   },
   "outputs": [
    {
     "data": {
      "text/html": [
       "<div>\n",
       "<style scoped>\n",
       "    .dataframe tbody tr th:only-of-type {\n",
       "        vertical-align: middle;\n",
       "    }\n",
       "\n",
       "    .dataframe tbody tr th {\n",
       "        vertical-align: top;\n",
       "    }\n",
       "\n",
       "    .dataframe thead tr th {\n",
       "        text-align: left;\n",
       "    }\n",
       "\n",
       "    .dataframe thead tr:last-of-type th {\n",
       "        text-align: right;\n",
       "    }\n",
       "</style>\n",
       "<table border=\"1\" class=\"dataframe\">\n",
       "  <thead>\n",
       "    <tr>\n",
       "      <th></th>\n",
       "      <th colspan=\"8\" halign=\"left\">BALANCE</th>\n",
       "      <th colspan=\"2\" halign=\"left\">BALANCE_FREQUENCY</th>\n",
       "      <th>...</th>\n",
       "      <th colspan=\"2\" halign=\"left\">MINIMUM_PAYMENTS</th>\n",
       "      <th colspan=\"8\" halign=\"left\">PRC_FULL_PAYMENT</th>\n",
       "    </tr>\n",
       "    <tr>\n",
       "      <th></th>\n",
       "      <th>count</th>\n",
       "      <th>mean</th>\n",
       "      <th>std</th>\n",
       "      <th>min</th>\n",
       "      <th>25%</th>\n",
       "      <th>50%</th>\n",
       "      <th>75%</th>\n",
       "      <th>max</th>\n",
       "      <th>count</th>\n",
       "      <th>mean</th>\n",
       "      <th>...</th>\n",
       "      <th>75%</th>\n",
       "      <th>max</th>\n",
       "      <th>count</th>\n",
       "      <th>mean</th>\n",
       "      <th>std</th>\n",
       "      <th>min</th>\n",
       "      <th>25%</th>\n",
       "      <th>50%</th>\n",
       "      <th>75%</th>\n",
       "      <th>max</th>\n",
       "    </tr>\n",
       "    <tr>\n",
       "      <th>cluster</th>\n",
       "      <th></th>\n",
       "      <th></th>\n",
       "      <th></th>\n",
       "      <th></th>\n",
       "      <th></th>\n",
       "      <th></th>\n",
       "      <th></th>\n",
       "      <th></th>\n",
       "      <th></th>\n",
       "      <th></th>\n",
       "      <th></th>\n",
       "      <th></th>\n",
       "      <th></th>\n",
       "      <th></th>\n",
       "      <th></th>\n",
       "      <th></th>\n",
       "      <th></th>\n",
       "      <th></th>\n",
       "      <th></th>\n",
       "      <th></th>\n",
       "      <th></th>\n",
       "    </tr>\n",
       "  </thead>\n",
       "  <tbody>\n",
       "    <tr>\n",
       "      <th>0</th>\n",
       "      <td>3315.0</td>\n",
       "      <td>488.802028</td>\n",
       "      <td>936.433585</td>\n",
       "      <td>0.000000</td>\n",
       "      <td>24.078900</td>\n",
       "      <td>85.881798</td>\n",
       "      <td>448.965814</td>\n",
       "      <td>9630.367575</td>\n",
       "      <td>3315.0</td>\n",
       "      <td>0.780972</td>\n",
       "      <td>...</td>\n",
       "      <td>260.172137</td>\n",
       "      <td>3933.230932</td>\n",
       "      <td>3315.0</td>\n",
       "      <td>0.244951</td>\n",
       "      <td>0.345886</td>\n",
       "      <td>0.0</td>\n",
       "      <td>0.0</td>\n",
       "      <td>0.000000</td>\n",
       "      <td>0.436507</td>\n",
       "      <td>1.000000</td>\n",
       "    </tr>\n",
       "    <tr>\n",
       "      <th>1</th>\n",
       "      <td>1001.0</td>\n",
       "      <td>1748.854674</td>\n",
       "      <td>1987.975020</td>\n",
       "      <td>0.000000</td>\n",
       "      <td>486.170360</td>\n",
       "      <td>1060.422892</td>\n",
       "      <td>2241.092286</td>\n",
       "      <td>14581.459140</td>\n",
       "      <td>1001.0</td>\n",
       "      <td>0.858535</td>\n",
       "      <td>...</td>\n",
       "      <td>931.105425</td>\n",
       "      <td>21235.065300</td>\n",
       "      <td>1001.0</td>\n",
       "      <td>0.129974</td>\n",
       "      <td>0.198876</td>\n",
       "      <td>0.0</td>\n",
       "      <td>0.0</td>\n",
       "      <td>0.083333</td>\n",
       "      <td>0.166667</td>\n",
       "      <td>1.000000</td>\n",
       "    </tr>\n",
       "    <tr>\n",
       "      <th>2</th>\n",
       "      <td>1825.0</td>\n",
       "      <td>2949.582558</td>\n",
       "      <td>2565.494710</td>\n",
       "      <td>114.523682</td>\n",
       "      <td>1216.893766</td>\n",
       "      <td>1843.308668</td>\n",
       "      <td>4021.881912</td>\n",
       "      <td>18495.558550</td>\n",
       "      <td>1825.0</td>\n",
       "      <td>0.996860</td>\n",
       "      <td>...</td>\n",
       "      <td>1961.161822</td>\n",
       "      <td>76406.207520</td>\n",
       "      <td>1825.0</td>\n",
       "      <td>0.001062</td>\n",
       "      <td>0.013400</td>\n",
       "      <td>0.0</td>\n",
       "      <td>0.0</td>\n",
       "      <td>0.000000</td>\n",
       "      <td>0.000000</td>\n",
       "      <td>0.416667</td>\n",
       "    </tr>\n",
       "    <tr>\n",
       "      <th>3</th>\n",
       "      <td>1494.0</td>\n",
       "      <td>1118.998658</td>\n",
       "      <td>1627.007380</td>\n",
       "      <td>0.000000</td>\n",
       "      <td>212.520398</td>\n",
       "      <td>543.237203</td>\n",
       "      <td>1337.212684</td>\n",
       "      <td>19043.138560</td>\n",
       "      <td>1494.0</td>\n",
       "      <td>0.931343</td>\n",
       "      <td>...</td>\n",
       "      <td>531.787024</td>\n",
       "      <td>18621.013310</td>\n",
       "      <td>1494.0</td>\n",
       "      <td>0.282392</td>\n",
       "      <td>0.369194</td>\n",
       "      <td>0.0</td>\n",
       "      <td>0.0</td>\n",
       "      <td>0.083333</td>\n",
       "      <td>0.567461</td>\n",
       "      <td>1.000000</td>\n",
       "    </tr>\n",
       "    <tr>\n",
       "      <th>4</th>\n",
       "      <td>1315.0</td>\n",
       "      <td>2719.616192</td>\n",
       "      <td>2230.337145</td>\n",
       "      <td>1.691842</td>\n",
       "      <td>1035.647960</td>\n",
       "      <td>2080.312991</td>\n",
       "      <td>3782.283750</td>\n",
       "      <td>12856.152510</td>\n",
       "      <td>1315.0</td>\n",
       "      <td>0.906890</td>\n",
       "      <td>...</td>\n",
       "      <td>1164.174894</td>\n",
       "      <td>8644.138069</td>\n",
       "      <td>1315.0</td>\n",
       "      <td>0.007450</td>\n",
       "      <td>0.041141</td>\n",
       "      <td>0.0</td>\n",
       "      <td>0.0</td>\n",
       "      <td>0.000000</td>\n",
       "      <td>0.000000</td>\n",
       "      <td>0.600000</td>\n",
       "    </tr>\n",
       "  </tbody>\n",
       "</table>\n",
       "<p>5 rows × 128 columns</p>\n",
       "</div>"
      ],
      "text/plain": [
       "        BALANCE                                                     \\\n",
       "          count         mean          std         min          25%   \n",
       "cluster                                                              \n",
       "0        3315.0   488.802028   936.433585    0.000000    24.078900   \n",
       "1        1001.0  1748.854674  1987.975020    0.000000   486.170360   \n",
       "2        1825.0  2949.582558  2565.494710  114.523682  1216.893766   \n",
       "3        1494.0  1118.998658  1627.007380    0.000000   212.520398   \n",
       "4        1315.0  2719.616192  2230.337145    1.691842  1035.647960   \n",
       "\n",
       "                                                BALANCE_FREQUENCY            \\\n",
       "                 50%          75%           max             count      mean   \n",
       "cluster                                                                       \n",
       "0          85.881798   448.965814   9630.367575            3315.0  0.780972   \n",
       "1        1060.422892  2241.092286  14581.459140            1001.0  0.858535   \n",
       "2        1843.308668  4021.881912  18495.558550            1825.0  0.996860   \n",
       "3         543.237203  1337.212684  19043.138560            1494.0  0.931343   \n",
       "4        2080.312991  3782.283750  12856.152510            1315.0  0.906890   \n",
       "\n",
       "         ... MINIMUM_PAYMENTS               PRC_FULL_PAYMENT            \\\n",
       "         ...              75%           max            count      mean   \n",
       "cluster  ...                                                             \n",
       "0        ...       260.172137   3933.230932           3315.0  0.244951   \n",
       "1        ...       931.105425  21235.065300           1001.0  0.129974   \n",
       "2        ...      1961.161822  76406.207520           1825.0  0.001062   \n",
       "3        ...       531.787024  18621.013310           1494.0  0.282392   \n",
       "4        ...      1164.174894   8644.138069           1315.0  0.007450   \n",
       "\n",
       "                                                           \n",
       "              std  min  25%       50%       75%       max  \n",
       "cluster                                                    \n",
       "0        0.345886  0.0  0.0  0.000000  0.436507  1.000000  \n",
       "1        0.198876  0.0  0.0  0.083333  0.166667  1.000000  \n",
       "2        0.013400  0.0  0.0  0.000000  0.000000  0.416667  \n",
       "3        0.369194  0.0  0.0  0.083333  0.567461  1.000000  \n",
       "4        0.041141  0.0  0.0  0.000000  0.000000  0.600000  \n",
       "\n",
       "[5 rows x 128 columns]"
      ]
     },
     "execution_count": 21,
     "metadata": {},
     "output_type": "execute_result"
    }
   ],
   "source": [
    "dataframe.groupby(\"cluster\").describe()"
   ]
  },
  {
   "cell_type": "code",
   "execution_count": 22,
   "id": "cf2006a9",
   "metadata": {
    "ExecuteTime": {
     "end_time": "2023-09-26T13:48:49.354566Z",
     "start_time": "2023-09-26T13:48:49.339608Z"
    }
   },
   "outputs": [
    {
     "data": {
      "text/plain": [
       "array([[7.41435057e-02, 2.30598606e-04, 1.22644337e-01, 4.91336388e-02,\n",
       "        7.36112623e-02, 2.02012160e-02, 1.72105136e-04, 3.41056055e-05,\n",
       "        1.39398511e-04, 7.56585643e-06, 1.18718703e-04, 2.87194118e-03,\n",
       "        9.43090102e-01, 1.54954100e-01, 5.72048927e-02, 7.55013476e-05],\n",
       "       [2.27283461e-01, 2.12919599e-04, 6.90552841e-02, 3.82103280e-02,\n",
       "        3.08505405e-02, 3.64415621e-01, 5.84848743e-05, 2.24756747e-05,\n",
       "        3.97948056e-05, 5.90776324e-05, 1.43098394e-03, 1.30916105e-03,\n",
       "        5.19057140e-01, 6.31517578e-01, 1.13827521e-01, 3.10899781e-05],\n",
       "       [5.34719561e-01, 3.07483975e-04, 9.40143076e-02, 4.50451970e-02,\n",
       "        4.90841876e-02, 8.42618546e-02, 1.03569613e-04, 3.28730575e-05,\n",
       "        7.70242320e-05, 3.86267235e-05, 6.70671828e-04, 2.24080860e-03,\n",
       "        6.47510299e-01, 1.99941575e-01, 3.11248055e-01, 2.85575884e-07],\n",
       "       [1.55441288e-01, 2.45527380e-04, 4.45197805e-01, 2.57865614e-01,\n",
       "        1.87505775e-01, 2.67051319e-02, 2.04941957e-04, 8.80988885e-05,\n",
       "        1.51947090e-04, 9.54095447e-06, 1.73998170e-04, 6.18672007e-03,\n",
       "        5.94079088e-01, 4.02613545e-01, 9.25336034e-02, 7.27583477e-05],\n",
       "       [3.92225952e-01, 2.21961434e-04, 4.08966140e-02, 2.41375044e-02,\n",
       "        1.67632013e-02, 4.69796685e-01, 4.57220814e-05, 1.60226742e-05,\n",
       "        3.02199798e-05, 7.74424778e-05, 1.73808813e-03, 7.90301737e-04,\n",
       "        7.16380049e-01, 1.49362355e-01, 1.32273009e-01, 2.04476303e-06]])"
      ]
     },
     "execution_count": 22,
     "metadata": {},
     "output_type": "execute_result"
    }
   ],
   "source": [
    "centroids = kmeans.cluster_centers_\n",
    "centroids"
   ]
  },
  {
   "cell_type": "code",
   "execution_count": 28,
   "id": "f93dc0c9",
   "metadata": {
    "ExecuteTime": {
     "end_time": "2023-09-26T13:53:38.728049Z",
     "start_time": "2023-09-26T13:53:38.717080Z"
    }
   },
   "outputs": [
    {
     "name": "stdout",
     "output_type": "stream",
     "text": [
      "BALANCE \n",
      "0.0276\n",
      "BALANCE_FREQUENCY \n",
      "0.0000\n",
      "PURCHASES \n",
      "0.0219\n",
      "ONEOFF_PURCHASES \n",
      "0.0077\n",
      "INSTALLMENTS_PURCHASES \n",
      "0.0037\n",
      "CASH_ADVANCE \n",
      "0.0351\n",
      "PURCHASES_FREQUENCY \n",
      "0.0000\n",
      "ONEOFF_PURCHASES_FREQUENCY \n",
      "0.0000\n",
      "PURCHASES_INSTALLMENTS_FREQUENCY \n",
      "0.0000\n",
      "CASH_ADVANCE_FREQUENCY \n",
      "0.0000\n",
      "CASH_ADVANCE_TRX \n",
      "0.0000\n",
      "PURCHASES_TRX \n",
      "0.0000\n",
      "CREDIT_LIMIT \n",
      "0.0210\n",
      "PAYMENTS \n",
      "0.0348\n",
      "MINIMUM_PAYMENTS \n",
      "0.0078\n",
      "PRC_FULL_PAYMENT \n",
      "0.0000\n"
     ]
    }
   ],
   "source": [
    "max = len(centroids[0])\n",
    "for i in range(max):\n",
    "    print(dataframe.columns.values[i],\"\\n{:.4f}\".format(centroids[:, i].var()))"
   ]
  },
  {
   "cell_type": "markdown",
   "id": "96672ba5",
   "metadata": {},
   "source": [
    "BALANCE 0.0224\n",
    "PURCHASES 0.0196\n",
    "CASH_ADVANCE 0.0226\n",
    "CREDIT_LIMIT 0.0360\n",
    "PAYMENTS 0.0280"
   ]
  },
  {
   "cell_type": "code",
   "execution_count": 34,
   "id": "f439c340",
   "metadata": {
    "ExecuteTime": {
     "end_time": "2023-09-26T13:58:16.815920Z",
     "start_time": "2023-09-26T13:58:16.793011Z"
    }
   },
   "outputs": [
    {
     "name": "stdout",
     "output_type": "stream",
     "text": [
      "             BALANCE    PURCHASES  CASH_ADVANCE  CREDIT_LIMIT     PAYMENTS  \\\n",
      "cluster                                                                      \n",
      "0         488.802028   640.242015    126.097601   5178.415315   827.711487   \n",
      "1        1748.854674   531.250120   3064.439069   3914.956256  4961.223005   \n",
      "2        2949.582558   559.479945    573.495675   3730.000000  1050.324877   \n",
      "3        1118.998658  3328.438133    186.010928   4044.718977  3050.885706   \n",
      "4        2719.616192   251.530144   3004.448265   4782.091255  1008.915227   \n",
      "\n",
      "         n_clients  \n",
      "cluster             \n",
      "0             3315  \n",
      "1             1001  \n",
      "2             1825  \n",
      "3             1494  \n",
      "4             1315  \n"
     ]
    },
    {
     "name": "stderr",
     "output_type": "stream",
     "text": [
      "C:\\Users\\mayaram4rtins\\AppData\\Local\\Temp\\ipykernel_14140\\2296433210.py:1: FutureWarning: Indexing with multiple keys (implicitly converted to a tuple of keys) will be deprecated, use a list instead.\n",
      "  description = dataframe.groupby(\"cluster\")[\"BALANCE\", \"PURCHASES\", \"CASH_ADVANCE\", \"CREDIT_LIMIT\", \"PAYMENTS\"]\n"
     ]
    }
   ],
   "source": [
    "description = dataframe.groupby(\"cluster\")[\"BALANCE\", \"PURCHASES\", \"CASH_ADVANCE\", \"CREDIT_LIMIT\", \"PAYMENTS\"]\n",
    "n_clients = description.size()\n",
    "description = description.mean()\n",
    "description['n_clients'] = n_clients\n",
    "print(description)"
   ]
  },
  {
   "cell_type": "code",
   "execution_count": null,
   "id": "0e386582",
   "metadata": {},
   "outputs": [],
   "source": []
  }
 ],
 "metadata": {
  "kernelspec": {
   "display_name": "Python 3 (ipykernel)",
   "language": "python",
   "name": "python3"
  },
  "language_info": {
   "codemirror_mode": {
    "name": "ipython",
    "version": 3
   },
   "file_extension": ".py",
   "mimetype": "text/x-python",
   "name": "python",
   "nbconvert_exporter": "python",
   "pygments_lexer": "ipython3",
   "version": "3.9.13"
  },
  "toc": {
   "base_numbering": 1,
   "nav_menu": {},
   "number_sections": true,
   "sideBar": true,
   "skip_h1_title": false,
   "title_cell": "Table of Contents",
   "title_sidebar": "Contents",
   "toc_cell": false,
   "toc_position": {},
   "toc_section_display": true,
   "toc_window_display": false
  }
 },
 "nbformat": 4,
 "nbformat_minor": 5
}
