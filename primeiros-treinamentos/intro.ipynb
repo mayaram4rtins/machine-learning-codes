{
 "cells": [
  {
   "cell_type": "markdown",
   "id": "f6e95506",
   "metadata": {},
   "source": [
    "# features\n",
    "\n",
    "longo, perna curta e faz auau? (1 sim 0 não)"
   ]
  },
  {
   "cell_type": "code",
   "execution_count": 1,
   "id": "42347829",
   "metadata": {
    "ExecuteTime": {
     "end_time": "2023-06-07T17:33:09.292800Z",
     "start_time": "2023-06-07T17:33:09.268860Z"
    }
   },
   "outputs": [],
   "source": [
    "porco1 = [0, 1, 0]\n",
    "porco2 = [0, 1, 1]\n",
    "porco3 = [1, 1, 0]\n",
    "\n",
    "cachorro1 = [0, 1, 1]\n",
    "cachorro2 = [1, 0, 1]\n",
    "cachorro3 = [1, 1, 1]"
   ]
  },
  {
   "cell_type": "markdown",
   "id": "5564684b",
   "metadata": {},
   "source": [
    "1 para porco e 0 para cachorro"
   ]
  },
  {
   "cell_type": "code",
   "execution_count": 2,
   "id": "b284af16",
   "metadata": {
    "ExecuteTime": {
     "end_time": "2023-06-07T17:33:22.370251Z",
     "start_time": "2023-06-07T17:33:22.365264Z"
    }
   },
   "outputs": [],
   "source": [
    "train_x = [porco1, porco2, porco3, cachorro1, cachorro2, cachorro3]\n",
    "train_y = [1, 1, 1, 0, 0, 0] # labels"
   ]
  },
  {
   "cell_type": "code",
   "execution_count": 3,
   "id": "b452f4bf",
   "metadata": {
    "ExecuteTime": {
     "end_time": "2023-06-07T17:33:25.343018Z",
     "start_time": "2023-06-07T17:33:23.222824Z"
    }
   },
   "outputs": [],
   "source": [
    "from sklearn.svm import LinearSVC"
   ]
  },
  {
   "cell_type": "code",
   "execution_count": 4,
   "id": "d3faea82",
   "metadata": {
    "ExecuteTime": {
     "end_time": "2023-06-07T17:33:26.364526Z",
     "start_time": "2023-06-07T17:33:26.322594Z"
    }
   },
   "outputs": [
    {
     "data": {
      "text/html": [
       "<style>#sk-container-id-1 {color: black;background-color: white;}#sk-container-id-1 pre{padding: 0;}#sk-container-id-1 div.sk-toggleable {background-color: white;}#sk-container-id-1 label.sk-toggleable__label {cursor: pointer;display: block;width: 100%;margin-bottom: 0;padding: 0.3em;box-sizing: border-box;text-align: center;}#sk-container-id-1 label.sk-toggleable__label-arrow:before {content: \"▸\";float: left;margin-right: 0.25em;color: #696969;}#sk-container-id-1 label.sk-toggleable__label-arrow:hover:before {color: black;}#sk-container-id-1 div.sk-estimator:hover label.sk-toggleable__label-arrow:before {color: black;}#sk-container-id-1 div.sk-toggleable__content {max-height: 0;max-width: 0;overflow: hidden;text-align: left;background-color: #f0f8ff;}#sk-container-id-1 div.sk-toggleable__content pre {margin: 0.2em;color: black;border-radius: 0.25em;background-color: #f0f8ff;}#sk-container-id-1 input.sk-toggleable__control:checked~div.sk-toggleable__content {max-height: 200px;max-width: 100%;overflow: auto;}#sk-container-id-1 input.sk-toggleable__control:checked~label.sk-toggleable__label-arrow:before {content: \"▾\";}#sk-container-id-1 div.sk-estimator input.sk-toggleable__control:checked~label.sk-toggleable__label {background-color: #d4ebff;}#sk-container-id-1 div.sk-label input.sk-toggleable__control:checked~label.sk-toggleable__label {background-color: #d4ebff;}#sk-container-id-1 input.sk-hidden--visually {border: 0;clip: rect(1px 1px 1px 1px);clip: rect(1px, 1px, 1px, 1px);height: 1px;margin: -1px;overflow: hidden;padding: 0;position: absolute;width: 1px;}#sk-container-id-1 div.sk-estimator {font-family: monospace;background-color: #f0f8ff;border: 1px dotted black;border-radius: 0.25em;box-sizing: border-box;margin-bottom: 0.5em;}#sk-container-id-1 div.sk-estimator:hover {background-color: #d4ebff;}#sk-container-id-1 div.sk-parallel-item::after {content: \"\";width: 100%;border-bottom: 1px solid gray;flex-grow: 1;}#sk-container-id-1 div.sk-label:hover label.sk-toggleable__label {background-color: #d4ebff;}#sk-container-id-1 div.sk-serial::before {content: \"\";position: absolute;border-left: 1px solid gray;box-sizing: border-box;top: 0;bottom: 0;left: 50%;z-index: 0;}#sk-container-id-1 div.sk-serial {display: flex;flex-direction: column;align-items: center;background-color: white;padding-right: 0.2em;padding-left: 0.2em;position: relative;}#sk-container-id-1 div.sk-item {position: relative;z-index: 1;}#sk-container-id-1 div.sk-parallel {display: flex;align-items: stretch;justify-content: center;background-color: white;position: relative;}#sk-container-id-1 div.sk-item::before, #sk-container-id-1 div.sk-parallel-item::before {content: \"\";position: absolute;border-left: 1px solid gray;box-sizing: border-box;top: 0;bottom: 0;left: 50%;z-index: -1;}#sk-container-id-1 div.sk-parallel-item {display: flex;flex-direction: column;z-index: 1;position: relative;background-color: white;}#sk-container-id-1 div.sk-parallel-item:first-child::after {align-self: flex-end;width: 50%;}#sk-container-id-1 div.sk-parallel-item:last-child::after {align-self: flex-start;width: 50%;}#sk-container-id-1 div.sk-parallel-item:only-child::after {width: 0;}#sk-container-id-1 div.sk-dashed-wrapped {border: 1px dashed gray;margin: 0 0.4em 0.5em 0.4em;box-sizing: border-box;padding-bottom: 0.4em;background-color: white;}#sk-container-id-1 div.sk-label label {font-family: monospace;font-weight: bold;display: inline-block;line-height: 1.2em;}#sk-container-id-1 div.sk-label-container {text-align: center;}#sk-container-id-1 div.sk-container {/* jupyter's `normalize.less` sets `[hidden] { display: none; }` but bootstrap.min.css set `[hidden] { display: none !important; }` so we also need the `!important` here to be able to override the default hidden behavior on the sphinx rendered scikit-learn.org. See: https://github.com/scikit-learn/scikit-learn/issues/21755 */display: inline-block !important;position: relative;}#sk-container-id-1 div.sk-text-repr-fallback {display: none;}</style><div id=\"sk-container-id-1\" class=\"sk-top-container\"><div class=\"sk-text-repr-fallback\"><pre>LinearSVC()</pre><b>In a Jupyter environment, please rerun this cell to show the HTML representation or trust the notebook. <br />On GitHub, the HTML representation is unable to render, please try loading this page with nbviewer.org.</b></div><div class=\"sk-container\" hidden><div class=\"sk-item\"><div class=\"sk-estimator sk-toggleable\"><input class=\"sk-toggleable__control sk-hidden--visually\" id=\"sk-estimator-id-1\" type=\"checkbox\" checked><label for=\"sk-estimator-id-1\" class=\"sk-toggleable__label sk-toggleable__label-arrow\">LinearSVC</label><div class=\"sk-toggleable__content\"><pre>LinearSVC()</pre></div></div></div></div></div>"
      ],
      "text/plain": [
       "LinearSVC()"
      ]
     },
     "execution_count": 4,
     "metadata": {},
     "output_type": "execute_result"
    }
   ],
   "source": [
    "model = LinearSVC()\n",
    "model.fit(train_x, train_y)\n",
    "\n",
    "model"
   ]
  },
  {
   "cell_type": "code",
   "execution_count": 5,
   "id": "67615a2a",
   "metadata": {
    "ExecuteTime": {
     "end_time": "2023-06-07T17:33:34.320472Z",
     "start_time": "2023-06-07T17:33:34.306511Z"
    }
   },
   "outputs": [
    {
     "data": {
      "text/plain": [
       "array([0])"
      ]
     },
     "execution_count": 5,
     "metadata": {},
     "output_type": "execute_result"
    }
   ],
   "source": [
    "animal_misterioso = [1, 1, 1]\n",
    "model.predict([animal_misterioso])"
   ]
  },
  {
   "cell_type": "code",
   "execution_count": 7,
   "id": "58e0b7f3",
   "metadata": {
    "ExecuteTime": {
     "end_time": "2023-06-07T17:34:04.243148Z",
     "start_time": "2023-06-07T17:34:04.235169Z"
    }
   },
   "outputs": [],
   "source": [
    "animal_misterioso1 = [1, 1, 1]\n",
    "animal_misterioso2 = [1, 1, 0]\n",
    "animal_misterioso3 = [0, 1, 1]\n",
    "\n",
    "teste_x = [animal_misterioso1, animal_misterioso2, animal_misterioso3]\n",
    "\n",
    "previsao = model.predict(teste_x)"
   ]
  },
  {
   "cell_type": "code",
   "execution_count": 8,
   "id": "f9732338",
   "metadata": {
    "ExecuteTime": {
     "end_time": "2023-06-07T17:34:04.649865Z",
     "start_time": "2023-06-07T17:34:04.631912Z"
    }
   },
   "outputs": [],
   "source": [
    "teste_y = [0, 1, 1]"
   ]
  },
  {
   "cell_type": "code",
   "execution_count": 9,
   "id": "f2dddbc6",
   "metadata": {
    "ExecuteTime": {
     "end_time": "2023-06-07T17:34:09.366010Z",
     "start_time": "2023-06-07T17:34:09.358031Z"
    }
   },
   "outputs": [
    {
     "name": "stdout",
     "output_type": "stream",
     "text": [
      "taxa de acerto: 66.67\n"
     ]
    }
   ],
   "source": [
    "corretos = (previsao == teste_y).sum()\n",
    "total = len(teste_x)\n",
    "taxa_acerto = corretos/total\n",
    "print(\"taxa de acerto: %.2f\" %(taxa_acerto * 100))"
   ]
  },
  {
   "cell_type": "code",
   "execution_count": 9,
   "id": "b00af836",
   "metadata": {
    "ExecuteTime": {
     "end_time": "2023-05-29T11:36:04.637299Z",
     "start_time": "2023-05-29T11:36:04.623005Z"
    }
   },
   "outputs": [],
   "source": [
    "from sklearn.metrics import accuracy_score"
   ]
  },
  {
   "cell_type": "code",
   "execution_count": 10,
   "id": "fe97381d",
   "metadata": {
    "ExecuteTime": {
     "end_time": "2023-05-29T11:36:04.730213Z",
     "start_time": "2023-05-29T11:36:04.638349Z"
    }
   },
   "outputs": [
    {
     "name": "stdout",
     "output_type": "stream",
     "text": [
      "taxa de acerto 66.67\n"
     ]
    }
   ],
   "source": [
    "taxa_acerto = accuracy_score(teste_y, previsao)\n",
    "print(\"taxa de acerto %.2f\"  %(taxa_acerto * 100))"
   ]
  },
  {
   "cell_type": "code",
   "execution_count": null,
   "id": "bb2ae780",
   "metadata": {},
   "outputs": [],
   "source": []
  }
 ],
 "metadata": {
  "kernelspec": {
   "display_name": "Python 3 (ipykernel)",
   "language": "python",
   "name": "python3"
  },
  "language_info": {
   "codemirror_mode": {
    "name": "ipython",
    "version": 3
   },
   "file_extension": ".py",
   "mimetype": "text/x-python",
   "name": "python",
   "nbconvert_exporter": "python",
   "pygments_lexer": "ipython3",
   "version": "3.9.13"
  },
  "toc": {
   "base_numbering": 1,
   "nav_menu": {},
   "number_sections": true,
   "sideBar": true,
   "skip_h1_title": false,
   "title_cell": "Table of Contents",
   "title_sidebar": "Contents",
   "toc_cell": false,
   "toc_position": {},
   "toc_section_display": true,
   "toc_window_display": false
  }
 },
 "nbformat": 4,
 "nbformat_minor": 5
}
